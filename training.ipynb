{
 "cells": [
  {
   "cell_type": "markdown",
   "id": "619283b1",
   "metadata": {},
   "source": [
    "# Pricing simulation with Q-learning agents in Julia\n",
    "\n"
   ]
  },
  {
   "cell_type": "code",
   "execution_count": 1,
   "id": "9e102b6e",
   "metadata": {},
   "outputs": [
    {
     "data": {
      "text/plain": [
       "calc_reward"
      ]
     },
     "execution_count": 1,
     "metadata": {},
     "output_type": "execute_result"
    }
   ],
   "source": [
    "include(\"sim_types.jl\")\n",
    "include(\"utils_simulation.jl\")\n",
    "include(\"agent.jl\")\n",
    "include(\"market_env.jl\")"
   ]
  },
  {
   "cell_type": "code",
   "execution_count": 31,
   "id": "692097bc",
   "metadata": {
    "scrolled": true
   },
   "outputs": [
    {
     "data": {
      "text/plain": [
       "train_agent (generic function with 1 method)"
      ]
     },
     "execution_count": 31,
     "metadata": {},
     "output_type": "execute_result"
    }
   ],
   "source": [
    "function train_agent(seed::Int64, p::SimParams)\n",
    "    # Create local random number generator\n",
    "    local_RNG = MersenneTwister(seed)\n",
    "    \n",
    "    # Create variable from the parameters p\n",
    "    all_prices, all_price_states, n_states, n_actions = create_vars(p)\n",
    "\n",
    "    # Create mapping dicts from int states (column index) to prices and vice versa\n",
    "    int_to_price_state, price_state_to_int = create_transition_dict(all_price_states, n_states)\n",
    "    # Create Q-matrices\n",
    "    all_q = [rand(local_RNG, Float64, n_states, n_actions) for _ in 1:p.n_firms]\n",
    "    \n",
    "    # Start with the training\n",
    "    # Arbitraty start stae\n",
    "    state = 1\n",
    "    next_state = 1\n",
    "    # Init convergence counter \n",
    "    convergence_count = 0\n",
    "    \n",
    "    # Init best action\n",
    "    best_actions = []\n",
    "    \n",
    "    \n",
    "    for t in 1:p.max_t\n",
    "        epsilon = calc_epsilon(t, beta)\n",
    "        best_actions_old = copy(best_actions)\n",
    "        current_actions = tuple([get_action(q, state, epsilon, n_actions, local_RNG) for q in all_q]...)\n",
    "        current_prices = collect(index_to_price(current_actions)) #Collect to get an array\n",
    "        current_profits = [calc_reward(price, current_prices, p) for price in current_prices]\n",
    "        next_state = price_state_to_int[tuple(current_prices...)] #Cast to tuple again due to hash\n",
    "\n",
    "        # Get best actions before the update\n",
    "        best_actions_before_update = [get_best_action(q, state) for q in all_q]\n",
    "\n",
    "        # Update\n",
    "        all_q = [update(q, state, action, reward, next_state, p) for (q, action, reward) in zip(all_q, current_actions, current_profits)]\n",
    "\n",
    "        # Get best actions after the update, Note that only the best action for the given \n",
    "        # state could have changed\n",
    "        best_action_after_update = [get_best_action(q, state) for q in all_q]\n",
    "\n",
    "        # check convergence\n",
    "        if best_actions_before_update == best_action_after_update\n",
    "            convergence_count += 1\n",
    "            if convergence_count > p.rounds_convergence\n",
    "                break\n",
    "            end\n",
    "        else\n",
    "            convergence_count = 0\n",
    "        end\n",
    "        # State is the new state from the last period\n",
    "        state = next_state\n",
    "    end    \n",
    "    return state, all_q\n",
    "end"
   ]
  },
  {
   "cell_type": "code",
   "execution_count": 40,
   "id": "6a0bfce4",
   "metadata": {},
   "outputs": [
    {
     "data": {
      "text/plain": [
       "SimParams(2, 0, 5, 4, 60, 1, 4.0e-7, 0.95, 0.04, 1000000000, 200000, 1.0e-11)"
      ]
     },
     "execution_count": 40,
     "metadata": {},
     "output_type": "execute_result"
    }
   ],
   "source": [
    "n_firms = 2\n",
    "min_price = 0\n",
    "max_price = 5\n",
    "reservation_price = 4\n",
    "m_consumer = 60\n",
    "\n",
    "k_memory = 1\n",
    "beta = 4e-07\n",
    "discount_rate = 0.95\n",
    "alpha = 0.04\n",
    "max_t = 1000000000\n",
    "rounds_convergence = 200000\n",
    "optimality_threshold = 0.00000000001\n",
    "\n",
    "current_params = SimParams(n_firms = n_firms,\n",
    "                           min_price = min_price,\n",
    "                           max_price = max_price,\n",
    "                           reservation_price = reservation_price,\n",
    "                           m_consumer = m_consumer,\n",
    "                           k_memory = k_memory,\n",
    "                           beta = beta,\n",
    "                           discount_rate = discount_rate,\n",
    "                           alpha = alpha,\n",
    "                           max_t = max_t,\n",
    "                           rounds_convergence = rounds_convergence,\n",
    "                           optimality_threshold=optimality_threshold)"
   ]
  },
  {
   "cell_type": "code",
   "execution_count": 41,
   "id": "bb14e59d",
   "metadata": {},
   "outputs": [
    {
     "name": "stdout",
     "output_type": "stream",
     "text": [
      " 35.766818 seconds (363.64 M allocations: 26.935 GiB, 9.27% gc time)\n"
     ]
    },
    {
     "data": {
      "text/plain": [
       "(29, [[1648.8671342423718 2084.4622462697043 … 1731.3639410891965 1732.9709092358225; 1919.2879404227992 1923.8881296448887 … 2039.802943719999 1903.442959982311; … ; 2005.3421751364417 2068.9280167693105 … 2035.1069465762134 1967.652637083865; 1719.95837213905 2139.3958028004345 … 1865.750459160043 1753.2403060634565], [1656.935474509337 1670.895865518859 … 1639.39630813921 1687.3168718941777; 1885.1706516508577 1927.5296435923344 … 1840.7675616280355 1904.7007348700406; … ; 2079.0483671885772 2236.778922045518 … 2126.014764540704 2080.1342618362905; 1705.3580438008694 1694.3219286948456 … 2155.2594196632112 1682.1541203531033]])"
      ]
     },
     "execution_count": 41,
     "metadata": {},
     "output_type": "execute_result"
    }
   ],
   "source": [
    "@time convergence_state, all_q =  train_agent(6, current_params)\n"
   ]
  }
 ],
 "metadata": {
  "kernelspec": {
   "display_name": "JuliaPro_v1.5.0-1 1.5.0",
   "language": "julia",
   "name": "juliapro_v1.5.0-1-1.5"
  },
  "language_info": {
   "file_extension": ".jl",
   "mimetype": "application/julia",
   "name": "julia",
   "version": "1.5.0"
  }
 },
 "nbformat": 4,
 "nbformat_minor": 5
}
